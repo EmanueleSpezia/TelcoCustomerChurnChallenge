{
 "cells": [
  {
   "cell_type": "code",
   "execution_count": null,
   "metadata": {},
   "outputs": [],
   "source": [
    "# Import libraries\n",
    "!pip install -r requirements.txt\n",
    "import numpy as np \n",
    "import pandas as pd \n",
    "%matplotlib inline\n",
    "import matplotlib.pyplot as plt \n",
    "import pandas as pd"
   ]
  },
  {
   "cell_type": "code",
   "execution_count": null,
   "metadata": {},
   "outputs": [],
   "source": [
    "# Import data\n",
    "dataset = pd.read_csv(\"WA_Fn-UseC_-Telco-Customer-Churn.train.csv\")"
   ]
  },
  {
   "cell_type": "code",
   "execution_count": null,
   "metadata": {},
   "outputs": [],
   "source": [
    "# Replacement of empty spaces with null and elimination \n",
    "dataset['TotalCharges'] = dataset[\"TotalCharges\"].replace(\" \",np.nan)\n",
    "dataset = dataset[dataset[\"TotalCharges\"].notnull()]\n",
    "dataset = dataset.reset_index()[dataset.columns]\n",
    "# TotalCharges to float conversion\n",
    "dataset[\"TotalCharges\"] = dataset[\"TotalCharges\"].astype(float)\n",
    "# Substitution of variables to make them similar in the dataset\n",
    "replace_nis = [ 'OnlineSecurity', 'OnlineBackup', 'DeviceProtection','TechSupport','StreamingTV', 'StreamingMovies']\n",
    "for c in replace_nis : \n",
    "    dataset[c] = dataset[c].replace({'No internet service' : 'No'})\n",
    "dataset[\"SeniorCitizen\"] = dataset[\"SeniorCitizen\"].replace({1:\"Yes\",0:\"No\"})\n",
    "\n",
    "# Tenure division into categories\n",
    "def tenure_div_cat(dataset) :\n",
    "    if dataset[\"tenure\"] <= 12 :\n",
    "        return \"Tenure_0-12\"\n",
    "    elif (dataset[\"tenure\"] > 12) & (dataset[\"tenure\"] <= 24 ):\n",
    "        return \"Tenure_12-24\"\n",
    "    elif (dataset[\"tenure\"] > 24) & (dataset[\"tenure\"] <= 48) :\n",
    "        return \"Tenure_24-48\"\n",
    "    elif (dataset[\"tenure\"] > 48) & (dataset[\"tenure\"] <= 60) :\n",
    "        return \"Tenure_48-60\"\n",
    "    elif dataset[\"tenure\"] > 60 :\n",
    "        return \"Tenure_gt_60\"\n",
    "dataset[\"tenure_group\"] = dataset.apply(lambda dataset:tenure_div_cat(dataset),axis = 1)\n",
    "\n",
    "# Tenure column deletion, now divided into categories\n",
    "dataset = dataset.drop(columns=['tenure'])\n",
    "\n",
    "# CustomerID column deletion\n",
    "dataset = dataset.drop(columns=['customerID'])\n",
    "\n",
    "dataset.head()"
   ]
  },
  {
   "cell_type": "code",
   "execution_count": null,
   "metadata": {},
   "outputs": [],
   "source": [
    "# Encoding dataset\n",
    "from sklearn.preprocessing import LabelEncoder\n",
    "labelEncoder = LabelEncoder()\n",
    "for feature in dataset.columns:\n",
    "    dataset[feature] = labelEncoder.fit_transform(dataset[feature])"
   ]
  },
  {
   "cell_type": "code",
   "execution_count": null,
   "metadata": {},
   "outputs": [],
   "source": [
    "# Separate the variable (y) and all the features (X)\n",
    "response = [\"Churn\"]\n",
    "features = [i for i in dataset.columns if i not in response]\n",
    "X = dataset[features]\n",
    "y = dataset[response]"
   ]
  },
  {
   "cell_type": "code",
   "execution_count": null,
   "metadata": {},
   "outputs": [],
   "source": [
    "# Division control\n",
    "X.head()"
   ]
  },
  {
   "cell_type": "code",
   "execution_count": null,
   "metadata": {},
   "outputs": [],
   "source": [
    "# Division control\n",
    "y.head()"
   ]
  },
  {
   "cell_type": "code",
   "execution_count": null,
   "metadata": {},
   "outputs": [],
   "source": [
    "# Creating training and test set\n",
    "from sklearn.model_selection import train_test_split\n",
    "X_train,X_test,y_train,y_test = train_test_split(X,y,test_size =.20 ,random_state=0)"
   ]
  },
  {
   "cell_type": "code",
   "execution_count": null,
   "metadata": {
    "scrolled": false
   },
   "outputs": [],
   "source": [
    "#Logistic Regression model\n",
    "from sklearn.linear_model import LogisticRegression\n",
    "from sklearn.metrics import plot_confusion_matrix,accuracy_score\n",
    "\n",
    "model = LogisticRegression(penalty='l2', dual=False, tol=0.0001, C=1.0, fit_intercept=False, \n",
    "                   intercept_scaling=1, class_weight='Balanced', random_state=None, solver='lbfgs', \n",
    "                   max_iter=100, multi_class='ovr', verbose=0, warm_start=False, n_jobs=10, l1_ratio=None)\n",
    "model.fit(X_train,y_train.values.ravel())\n",
    "y_pred = model.predict(X_test)\n",
    "\n",
    "print(\"Using Logistic Regression we have an accuracy of:\", accuracy_score(y_test,y_pred)*100, \"%\")\n",
    "    \n",
    "plot_confusion_matrix(model, X_test, y_test, cmap=plt.cm.YlGn, normalize='true' )\n",
    "plt.show()"
   ]
  },
  {
   "cell_type": "code",
   "execution_count": null,
   "metadata": {},
   "outputs": [],
   "source": []
  }
 ],
 "metadata": {
  "kernelspec": {
   "display_name": "Python 3",
   "language": "python",
   "name": "python3"
  },
  "language_info": {
   "codemirror_mode": {
    "name": "ipython",
    "version": 3
   },
   "file_extension": ".py",
   "mimetype": "text/x-python",
   "name": "python",
   "nbconvert_exporter": "python",
   "pygments_lexer": "ipython3",
   "version": "3.7.6"
  }
 },
 "nbformat": 4,
 "nbformat_minor": 4
}
